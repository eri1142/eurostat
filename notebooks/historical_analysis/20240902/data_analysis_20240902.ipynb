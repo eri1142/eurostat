{
 "cells": [
  {
   "cell_type": "code",
   "execution_count": 1,
   "metadata": {
    "execution": {
     "iopub.execute_input": "2024-09-02T15:25:37.866997Z",
     "iopub.status.busy": "2024-09-02T15:25:37.866997Z",
     "iopub.status.idle": "2024-09-02T15:25:42.974575Z",
     "shell.execute_reply": "2024-09-02T15:25:42.974575Z"
    }
   },
   "outputs": [],
   "source": [
    "# Importar librerias del proyecto\n",
    "\n",
    "import pandas as pd\n",
    "import numpy as np\n",
    "import matplotlib.pyplot as plt\n",
    "import seaborn as sns\n",
    "import subprocess\n",
    "import requests\n",
    "import os\n",
    "from datetime import datetime\n",
    "\n",
    "# Configuración de estilo de gráficos\n",
    "sns.set(style=\"whitegrid\")"
   ]
  },
  {
   "cell_type": "code",
   "execution_count": 2,
   "metadata": {
    "execution": {
     "iopub.execute_input": "2024-09-02T15:25:42.976583Z",
     "iopub.status.busy": "2024-09-02T15:25:42.976583Z",
     "iopub.status.idle": "2024-09-02T15:25:43.056262Z",
     "shell.execute_reply": "2024-09-02T15:25:43.056262Z"
    }
   },
   "outputs": [
    {
     "name": "stdout",
     "output_type": "stream",
     "text": [
      "Nombre del archivo CSV para analizar: C:\\Datos\\git_eurostat\\eurostat\\scripts\\..\\datafilecsv\\prc_hicp_manr_02-09-2024.csv\n"
     ]
    },
    {
     "data": {
      "text/html": [
       "<div>\n",
       "<style scoped>\n",
       "    .dataframe tbody tr th:only-of-type {\n",
       "        vertical-align: middle;\n",
       "    }\n",
       "\n",
       "    .dataframe tbody tr th {\n",
       "        vertical-align: top;\n",
       "    }\n",
       "\n",
       "    .dataframe thead th {\n",
       "        text-align: right;\n",
       "    }\n",
       "</style>\n",
       "<table border=\"1\" class=\"dataframe\">\n",
       "  <thead>\n",
       "    <tr style=\"text-align: right;\">\n",
       "      <th></th>\n",
       "      <th>geo</th>\n",
       "      <th>time</th>\n",
       "      <th>value</th>\n",
       "      <th>index</th>\n",
       "      <th>coicop</th>\n",
       "    </tr>\n",
       "  </thead>\n",
       "  <tbody>\n",
       "    <tr>\n",
       "      <th>0</th>\n",
       "      <td>BE</td>\n",
       "      <td>0</td>\n",
       "      <td>2.1</td>\n",
       "      <td>1997-01</td>\n",
       "      <td>All-items HICP</td>\n",
       "    </tr>\n",
       "    <tr>\n",
       "      <th>1</th>\n",
       "      <td>BE</td>\n",
       "      <td>1</td>\n",
       "      <td>1.9</td>\n",
       "      <td>1997-02</td>\n",
       "      <td>All-items HICP</td>\n",
       "    </tr>\n",
       "    <tr>\n",
       "      <th>2</th>\n",
       "      <td>BE</td>\n",
       "      <td>2</td>\n",
       "      <td>1.3</td>\n",
       "      <td>1997-03</td>\n",
       "      <td>All-items HICP</td>\n",
       "    </tr>\n",
       "    <tr>\n",
       "      <th>3</th>\n",
       "      <td>BE</td>\n",
       "      <td>3</td>\n",
       "      <td>1.1</td>\n",
       "      <td>1997-04</td>\n",
       "      <td>All-items HICP</td>\n",
       "    </tr>\n",
       "    <tr>\n",
       "      <th>4</th>\n",
       "      <td>BE</td>\n",
       "      <td>4</td>\n",
       "      <td>1.4</td>\n",
       "      <td>1997-05</td>\n",
       "      <td>All-items HICP</td>\n",
       "    </tr>\n",
       "  </tbody>\n",
       "</table>\n",
       "</div>"
      ],
      "text/plain": [
       "  geo  time  value    index          coicop\n",
       "0  BE     0    2.1  1997-01  All-items HICP\n",
       "1  BE     1    1.9  1997-02  All-items HICP\n",
       "2  BE     2    1.3  1997-03  All-items HICP\n",
       "3  BE     3    1.1  1997-04  All-items HICP\n",
       "4  BE     4    1.4  1997-05  All-items HICP"
      ]
     },
     "execution_count": 2,
     "metadata": {},
     "output_type": "execute_result"
    }
   ],
   "source": [
    "\n",
    "import os\n",
    "import pandas as pd\n",
    "\n",
    "# Obtener la ruta absoluta del directorio de trabajo actual\n",
    "notebook_dir = os.getcwd()\n",
    "\n",
    "# Construir la ruta absoluta al archivo latest_output.txt\n",
    "latest_output_path = os.path.abspath(os.path.join(notebook_dir, '..', '..', '..', 'datafilecsv', 'latest_output.txt'))\n",
    "\n",
    "# Verificar si el archivo latest_output.txt existe antes de intentar abrirlo\n",
    "if not os.path.exists(latest_output_path):\n",
    "    raise FileNotFoundError(f\"No se encontró el archivo: {latest_output_path}\")\n",
    "\n",
    "# Obtener nombre del CSV a analizar desde el txt generado por \"data_extraction.py\"\n",
    "with open(latest_output_path, \"r\") as file:\n",
    "    csv_filename = file.read().strip()\n",
    "\n",
    "# Mostrar el nombre del archivo CSV para verificar\n",
    "print(f\"Nombre del archivo CSV para analizar: {csv_filename}\")\n",
    "\n",
    "# Construir la ruta absoluta al archivo CSV\n",
    "csv_file_path = os.path.abspath(os.path.join(notebook_dir, '..', '..', '..', 'datafilecsv', csv_filename))\n",
    "\n",
    "# Verificar si el archivo CSV existe antes de intentar cargarlo\n",
    "if not os.path.exists(csv_file_path):\n",
    "    raise FileNotFoundError(f\"No se encontró el archivo CSV: {csv_file_path}\")\n",
    "\n",
    "# Cargar el archivo CSV\n",
    "df = pd.read_csv(csv_file_path)\n",
    "\n",
    "# Mostrar las primeras filas del dataframe\n",
    "df.head()\n"
   ]
  },
  {
   "cell_type": "markdown",
   "metadata": {},
   "source": []
  },
  {
   "cell_type": "code",
   "execution_count": 3,
   "metadata": {
    "execution": {
     "iopub.execute_input": "2024-09-02T15:25:43.087008Z",
     "iopub.status.busy": "2024-09-02T15:25:43.087008Z",
     "iopub.status.idle": "2024-09-02T15:25:43.109223Z",
     "shell.execute_reply": "2024-09-02T15:25:43.109223Z"
    }
   },
   "outputs": [
    {
     "data": {
      "text/html": [
       "<div>\n",
       "<style scoped>\n",
       "    .dataframe tbody tr th:only-of-type {\n",
       "        vertical-align: middle;\n",
       "    }\n",
       "\n",
       "    .dataframe tbody tr th {\n",
       "        vertical-align: top;\n",
       "    }\n",
       "\n",
       "    .dataframe thead th {\n",
       "        text-align: right;\n",
       "    }\n",
       "</style>\n",
       "<table border=\"1\" class=\"dataframe\">\n",
       "  <thead>\n",
       "    <tr style=\"text-align: right;\">\n",
       "      <th></th>\n",
       "      <th>time</th>\n",
       "      <th>value</th>\n",
       "    </tr>\n",
       "  </thead>\n",
       "  <tbody>\n",
       "    <tr>\n",
       "      <th>count</th>\n",
       "      <td>96208.000000</td>\n",
       "      <td>96208.000000</td>\n",
       "    </tr>\n",
       "    <tr>\n",
       "      <th>mean</th>\n",
       "      <td>166.765425</td>\n",
       "      <td>2.512734</td>\n",
       "    </tr>\n",
       "    <tr>\n",
       "      <th>std</th>\n",
       "      <td>94.809257</td>\n",
       "      <td>4.428873</td>\n",
       "    </tr>\n",
       "    <tr>\n",
       "      <th>min</th>\n",
       "      <td>0.000000</td>\n",
       "      <td>-45.200000</td>\n",
       "    </tr>\n",
       "    <tr>\n",
       "      <th>25%</th>\n",
       "      <td>85.000000</td>\n",
       "      <td>0.500000</td>\n",
       "    </tr>\n",
       "    <tr>\n",
       "      <th>50%</th>\n",
       "      <td>167.000000</td>\n",
       "      <td>1.900000</td>\n",
       "    </tr>\n",
       "    <tr>\n",
       "      <th>75%</th>\n",
       "      <td>249.000000</td>\n",
       "      <td>3.800000</td>\n",
       "    </tr>\n",
       "    <tr>\n",
       "      <th>max</th>\n",
       "      <td>331.000000</td>\n",
       "      <td>84.700000</td>\n",
       "    </tr>\n",
       "  </tbody>\n",
       "</table>\n",
       "</div>"
      ],
      "text/plain": [
       "               time         value\n",
       "count  96208.000000  96208.000000\n",
       "mean     166.765425      2.512734\n",
       "std       94.809257      4.428873\n",
       "min        0.000000    -45.200000\n",
       "25%       85.000000      0.500000\n",
       "50%      167.000000      1.900000\n",
       "75%      249.000000      3.800000\n",
       "max      331.000000     84.700000"
      ]
     },
     "execution_count": 3,
     "metadata": {},
     "output_type": "execute_result"
    }
   ],
   "source": [
    "# Describir los datos para obtener estadísticas generales\n",
    "df.describe()"
   ]
  },
  {
   "cell_type": "code",
   "execution_count": 4,
   "metadata": {
    "execution": {
     "iopub.execute_input": "2024-09-02T15:25:43.109223Z",
     "iopub.status.busy": "2024-09-02T15:25:43.109223Z",
     "iopub.status.idle": "2024-09-02T15:25:43.125325Z",
     "shell.execute_reply": "2024-09-02T15:25:43.125325Z"
    }
   },
   "outputs": [
    {
     "data": {
      "text/plain": [
       "geo       0\n",
       "time      0\n",
       "value     0\n",
       "index     0\n",
       "coicop    0\n",
       "dtype: int64"
      ]
     },
     "execution_count": 4,
     "metadata": {},
     "output_type": "execute_result"
    }
   ],
   "source": [
    "# Verificar valores nulos en el conjunto de datos\n",
    "df.isnull().sum()"
   ]
  },
  {
   "cell_type": "code",
   "execution_count": 5,
   "metadata": {
    "execution": {
     "iopub.execute_input": "2024-09-02T15:25:43.125325Z",
     "iopub.status.busy": "2024-09-02T15:25:43.125325Z",
     "iopub.status.idle": "2024-09-02T15:25:43.681689Z",
     "shell.execute_reply": "2024-09-02T15:25:43.681689Z"
    }
   },
   "outputs": [
    {
     "data": {
      "image/png": "[encoded data removed]",
      "text/plain": [
       "<Figure size 1000x800 with 2 Axes>"
      ]
     },
     "metadata": {},
     "output_type": "display_data"
    }
   ],
   "source": [
    "# Generar un histograma para las columnas numéricas\n",
    "df.hist(figsize=(10, 8), bins=20, color='blue')\n",
    "plt.tight_layout()\n",
    "plt.savefig(\"histogram.png\")  # Guardar el histograma\n",
    "plt.show()"
   ]
  },
  {
   "cell_type": "code",
   "execution_count": 6,
   "metadata": {
    "execution": {
     "iopub.execute_input": "2024-09-02T15:25:43.683732Z",
     "iopub.status.busy": "2024-09-02T15:25:43.683732Z",
     "iopub.status.idle": "2024-09-02T15:25:43.961996Z",
     "shell.execute_reply": "2024-09-02T15:25:43.961996Z"
    }
   },
   "outputs": [
    {
     "data": {
      "image/png": "[encoded data removed]",
      "text/plain": [
       "<Figure size 1000x600 with 1 Axes>"
      ]
     },
     "metadata": {},
     "output_type": "display_data"
    }
   ],
   "source": [
    "# Parametro a describir\n",
    "\n",
    "tmpcolumna = 'geo'\n",
    "\n",
    "# Crear un gráfico de barras para una categoría relevante\n",
    "if tmpcolumna in df.columns:  # Reemplaza 'Category' con una columna categórica relevante\n",
    "    df[tmpcolumna].value_counts().plot(kind='bar', color='orange', figsize=(10, 6))\n",
    "    plt.title(f\"Distribución de {tmpcolumna}\")\n",
    "    plt.xlabel(tmpcolumna)\n",
    "    plt.ylabel('Frecuencia')\n",
    "    plt.savefig(\"barplot.png\")  # Guardar el gráfico de barras\n",
    "    plt.show()"
   ]
  }
 ],
 "metadata": {
  "kernelspec": {
   "display_name": "env",
   "language": "python",
   "name": "python3"
  },
  "language_info": {
   "codemirror_mode": {
    "name": "ipython",
    "version": 3
   },
   "file_extension": ".py",
   "mimetype": "text/x-python",
   "name": "python",
   "nbconvert_exporter": "python",
   "pygments_lexer": "ipython3",
   "version": "3.12.5"
  }
 },
 "nbformat": 4,
 "nbformat_minor": 2
}
