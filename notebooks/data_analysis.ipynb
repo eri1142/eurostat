{
 "cells": [
  {
   "cell_type": "code",
   "execution_count": null,
   "metadata": {},
   "outputs": [],
   "source": [
    "# Importar librerias del proyecto\n",
    "\n",
    "import pandas as pd\n",
    "import numpy as np\n",
    "import matplotlib.pyplot as plt\n",
    "import seaborn as sns\n",
    "import subprocess\n",
    "import requests\n",
    "import os\n",
    "from datetime import datetime\n",
    "\n",
    "# Configuración de estilo de gráficos\n",
    "sns.set(style=\"whitegrid\")"
   ]
  },
  {
   "cell_type": "code",
   "execution_count": null,
   "metadata": {},
   "outputs": [],
   "source": [
    "\n",
    "import os\n",
    "import pandas as pd\n",
    "\n",
    "# Obtener la ruta absoluta del directorio de trabajo actual\n",
    "notebook_dir = os.getcwd()\n",
    "\n",
    "# Construir la ruta absoluta al archivo latest_output.txt\n",
    "latest_output_path = os.path.abspath(os.path.join(notebook_dir, '..', '..', '..', 'datafilecsv', 'latest_output.txt'))\n",
    "\n",
    "# Verificar si el archivo latest_output.txt existe antes de intentar abrirlo\n",
    "if not os.path.exists(latest_output_path):\n",
    "    raise FileNotFoundError(f\"No se encontró el archivo: {latest_output_path}\")\n",
    "\n",
    "# Obtener nombre del CSV a analizar desde el txt generado por \"data_extraction.py\"\n",
    "with open(latest_output_path, \"r\") as file:\n",
    "    csv_filename = file.read().strip()\n",
    "\n",
    "# Mostrar el nombre del archivo CSV para verificar\n",
    "print(f\"Nombre del archivo CSV para analizar: {csv_filename}\")\n",
    "\n",
    "# Construir la ruta absoluta al archivo CSV\n",
    "csv_file_path = os.path.abspath(os.path.join(notebook_dir, '..', '..', '..', 'datafilecsv', csv_filename))\n",
    "\n",
    "# Verificar si el archivo CSV existe antes de intentar cargarlo\n",
    "if not os.path.exists(csv_file_path):\n",
    "    raise FileNotFoundError(f\"No se encontró el archivo CSV: {csv_file_path}\")\n",
    "\n",
    "# Cargar el archivo CSV\n",
    "df = pd.read_csv(csv_file_path)\n",
    "\n",
    "# Mostrar las primeras filas del dataframe\n",
    "df.head()\n"
   ]
  },
  {
   "cell_type": "markdown",
   "metadata": {},
   "source": []
  },
  {
   "cell_type": "code",
   "execution_count": null,
   "metadata": {},
   "outputs": [],
   "source": [
    "# Describir los datos para obtener estadísticas generales\n",
    "df.describe()"
   ]
  },
  {
   "cell_type": "code",
   "execution_count": null,
   "metadata": {},
   "outputs": [],
   "source": [
    "# Verificar valores nulos en el conjunto de datos\n",
    "df.isnull().sum()"
   ]
  },
  {
   "cell_type": "code",
   "execution_count": null,
   "metadata": {},
   "outputs": [],
   "source": [
    "# Generar un histograma para las columnas numéricas\n",
    "df.hist(figsize=(10, 8), bins=20, color='blue')\n",
    "plt.tight_layout()\n",
    "plt.savefig(\"histogram.png\")  # Guardar el histograma\n",
    "plt.show()"
   ]
  },
  {
   "cell_type": "code",
   "execution_count": null,
   "metadata": {},
   "outputs": [],
   "source": [
    "# Parametro a describir\n",
    "\n",
    "tmpcolumna = 'geo'\n",
    "\n",
    "# Crear un gráfico de barras para una categoría relevante\n",
    "if tmpcolumna in df.columns:  # Reemplaza 'Category' con una columna categórica relevante\n",
    "    df[tmpcolumna].value_counts().plot(kind='bar', color='orange', figsize=(10, 6))\n",
    "    plt.title(f\"Distribución de {tmpcolumna}\")\n",
    "    plt.xlabel(tmpcolumna)\n",
    "    plt.ylabel('Frecuencia')\n",
    "    plt.savefig(\"barplot.png\")  # Guardar el gráfico de barras\n",
    "    plt.show()"
   ]
  }
 ],
 "metadata": {
  "kernelspec": {
   "display_name": "env",
   "language": "python",
   "name": "python3"
  },
  "language_info": {
   "codemirror_mode": {
    "name": "ipython",
    "version": 3
   },
   "file_extension": ".py",
   "mimetype": "text/x-python",
   "name": "python",
   "nbconvert_exporter": "python",
   "pygments_lexer": "ipython3",
   "version": "3.12.5"
  }
 },
 "nbformat": 4,
 "nbformat_minor": 2
}
